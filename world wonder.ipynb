{
 "cells": [
  {
   "cell_type": "code",
   "execution_count": 14,
   "metadata": {},
   "outputs": [],
   "source": [
    "# Import general modules used for e.g. plotting.\n",
    "import matplotlib.pyplot as plt\n",
    "import numpy as np\n",
    "import os\n",
    "import pandas as pd\n",
    "import seaborn as sns\n",
    "import sys\n",
    "import torch\n",
    "#import tensorflow as tf\n",
    "\n",
    "# Import Hopfield-specific modules.\n",
    "from hflayers import HopfieldPooling\n",
    "\n",
    "# Import auxiliary modules.\n",
    "from distutils.version import LooseVersion\n",
    "from typing import Optional, Tuple\n",
    "\n",
    "# Importing PyTorch specific modules.\n",
    "from torch import Tensor\n",
    "from torch.autograd import Variable\n",
    "from torch.nn import Conv2d, Dropout, Linear, MaxPool2d, Module, ReLU, Sequential, Sigmoid\n",
    "from torch.nn.utils import clip_grad_norm_\n",
    "from torch.optim import AdamW\n",
    "import torch.utils.data as data_utils\n",
    "from torchvision import datasets, transforms\n",
    "\n",
    "from torch.utils.data import DataLoader, Dataset\n",
    "import torchvision.transforms as T\n",
    "import torch.nn as nn\n",
    "from torchvision.utils import make_grid\n",
    "from torchvision.utils import save_image\n",
    "from IPython.display import Image\n",
    "import matplotlib.pyplot as plt\n",
    "import numpy as np\n",
    "import random\n",
    "from PIL import Image\n",
    "import cv2\n",
    "from torchvision.io import read_image\n",
    "\n",
    "# Set plotting style.\n",
    "sns.set()"
   ]
  },
  {
   "cell_type": "code",
   "execution_count": 15,
   "metadata": {},
   "outputs": [],
   "source": [
    "image_size = 28\n",
    "class worldWonders(Dataset):\n",
    "    def __init__(self, X):\n",
    "        'Initialization'\n",
    "        self.X = X\n",
    "        #self.y = y\n",
    "    def __len__(self):\n",
    "        'Denotes the total number of samples'\n",
    "        return len(self.X)\n",
    "    def __getitem__(self, index):\n",
    "        'Generates one sample of data'\n",
    "        # Select sample\n",
    "        image = self.X[index]\n",
    "        X = self.transform(image)\n",
    "        return X\n",
    "    transform = T.Compose([\n",
    "        T.ToPILImage(),\n",
    "        T.Resize(image_size),\n",
    "        T.ToTensor()]\n",
    "        )\n",
    "    "
   ]
  },
  {
   "cell_type": "code",
   "execution_count": 16,
   "metadata": {},
   "outputs": [],
   "source": [
    "image_size = 28\n",
    "img_data_array=[]\n",
    "#img_arr=np.array()\n",
    "DATA_DIR = 'archive/Wonders of World/Wonders of World'\n",
    "for file in os.listdir(DATA_DIR):\n",
    "    #print(dir1)\n",
    "    #for file in os.listdir(os.path.join(DATA_DIR, dir1)):\n",
    "    image_path= os.path.join(DATA_DIR,  file)\n",
    "\n",
    "    #image= tf.io.read_file(image_path)\n",
    "    #tensor = tf.io.decode_image(image, channels=3, dtype=tf.dtypes.float32)\n",
    "    #tensor = tf.image.resize(tensor, [224, 224])\n",
    "\n",
    "\n",
    "    image= cv2.imread(image_path)\n",
    "\n",
    "    image = cv2.cvtColor(image, cv2.COLOR_BGR2GRAY)\n",
    "\n",
    "    image=cv2.resize(image, (image_size, image_size),interpolation = cv2.INTER_AREA)\n",
    "    image=np.array(image)\n",
    "    image = image.astype('float32')\n",
    "    #image /= 255 \n",
    "    img_data_array.append(image)"
   ]
  },
  {
   "cell_type": "code",
   "execution_count": 17,
   "metadata": {},
   "outputs": [
    {
     "name": "stdout",
     "output_type": "stream",
     "text": [
      "Shape of training data: (3846, 28, 28)\n",
      "Data type: <class 'numpy.ndarray'>\n"
     ]
    }
   ],
   "source": [
    "X_train = np.array(img_data_array)\n",
    "print(f\"Shape of training data: {X_train.shape}\")\n",
    "print(f\"Data type: {type(X_train)}\")"
   ]
  },
  {
   "cell_type": "code",
   "execution_count": null,
   "metadata": {},
   "outputs": [
    {
     "data": {
      "text/plain": [
       "3846"
      ]
     },
     "execution_count": 18,
     "metadata": {},
     "output_type": "execute_result"
    }
   ],
   "source": [
    "len(X_train)"
   ]
  },
  {
   "cell_type": "code",
   "execution_count": 178,
   "metadata": {},
   "outputs": [
    {
     "data": {
      "text/plain": [
       "array([0, 0, 0, ..., 11, 11, 11], dtype=object)"
      ]
     },
     "execution_count": 178,
     "metadata": {},
     "output_type": "execute_result"
    }
   ],
   "source": [
    "y = pd.read_csv('archive/wonders_of_world_images.csv')\n",
    "#y = np.array(y['filename'])\n",
    "for i in range(len(y['folder_name'])):\n",
    "    if y['folder_name'][i] == 'burj_khalifa':\n",
    "        y['folder_name'][i] = 0\n",
    "    elif y['folder_name'][i] == 'chichen_itza':\n",
    "        y['folder_name'][i] = 1\n",
    "    elif y['folder_name'][i] == 'christ_the_reedemer':\n",
    "        y['folder_name'][i] = 2\n",
    "    elif y['folder_name'][i] == 'eiffel_tower':\n",
    "        y['folder_name'][i] = 3\n",
    "    elif y['folder_name'][i] == 'great_wall_of_china':\n",
    "        y['folder_name'][i] = 4\n",
    "    elif y['folder_name'][i] == 'machu_pichu':\n",
    "        y['folder_name'][i] = 5\n",
    "    elif y['folder_name'][i] == 'pyramids_of_giza':\n",
    "        y['folder_name'][i] = 6\n",
    "    elif y['folder_name'][i] == 'roman_colosseum':\n",
    "        y['folder_name'][i] = 7\n",
    "    elif y['folder_name'][i] == 'statue_of_liberty':\n",
    "        y['folder_name'][i] = 8\n",
    "    elif y['folder_name'][i] == 'stonehenge':\n",
    "        y['folder_name'][i] = 9\n",
    "    elif y['folder_name'][i] == 'taj_mahal':\n",
    "        y['folder_name'][i] = 10\n",
    "    elif y['folder_name'][i] == 'venezuela_angel_falls':\n",
    "        y['folder_name'][i] = 11\n",
    "y = np.array(y['folder_name'])\n",
    "y"
   ]
  },
  {
   "cell_type": "code",
   "execution_count": null,
   "metadata": {},
   "outputs": [],
   "source": [
    "transformed_dataset = worldWonders(X_train)\n"
   ]
  },
  {
   "cell_type": "code",
   "execution_count": null,
   "metadata": {},
   "outputs": [
    {
     "data": {
      "text/plain": [
       "<__main__.worldWonders at 0x27381f34d30>"
      ]
     },
     "execution_count": 17,
     "metadata": {},
     "output_type": "execute_result"
    }
   ],
   "source": [
    "transformed_dataset"
   ]
  },
  {
   "cell_type": "code",
   "execution_count": 8,
   "metadata": {},
   "outputs": [
    {
     "name": "stderr",
     "output_type": "stream",
     "text": [
      "C:\\Users\\Shehab\\AppData\\Local\\Temp\\ipykernel_9376\\2639431865.py:4: FutureWarning: The input object of type 'Tensor' is an array-like implementing one of the corresponding protocols (`__array__`, `__array_interface__` or `__array_struct__`); but not a sequence (or 0-D). In the future, this object will be coerced as if it was first converted using `np.array(obj)`. To retain the old behaviour, you have to either modify the type 'Tensor', or assign to an empty array created with `np.empty(correct_shape, dtype=object)`.\n",
      "  train_data = np.array(transformed_dataset)\n",
      "C:\\Users\\Shehab\\AppData\\Local\\Temp\\ipykernel_9376\\2639431865.py:4: VisibleDeprecationWarning: Creating an ndarray from ragged nested sequences (which is a list-or-tuple of lists-or-tuples-or ndarrays with different lengths or shapes) is deprecated. If you meant to do this, you must specify 'dtype=object' when creating the ndarray.\n",
      "  train_data = np.array(transformed_dataset)\n"
     ]
    }
   ],
   "source": [
    "train_data = []\n",
    "for i in range(len(transformed_dataset)):\n",
    "   train_data.append((transformed_dataset[i], y[i]))\n",
    "train_data = np.array(transformed_dataset)"
   ]
  },
  {
   "cell_type": "code",
   "execution_count": 18,
   "metadata": {},
   "outputs": [],
   "source": [
    "device = torch.device(r'cuda:0' if torch.cuda.is_available() else r'cpu')\n",
    "\n",
    "class CustomImageDataset(Dataset):\n",
    "    def __init__(self, annotations_file, img_dir, transform=None, target_transform=None):\n",
    "        self.img_labels = pd.read_csv(annotations_file)\n",
    "        self.img_dir = img_dir\n",
    "        self.transform = transforms.Compose([transforms.ToTensor()])\n",
    "        self.target_transform = target_transform\n",
    "        for i in range(len(self.img_labels['folder_name'])):\n",
    "            if self.img_labels['folder_name'][i] == 'burj_khalifa':\n",
    "                self.img_labels['folder_name'][i] = 0\n",
    "            elif self.img_labels['folder_name'][i] == 'chichen_itza':\n",
    "                self.img_labels['folder_name'][i] = 1\n",
    "            elif self.img_labels['folder_name'][i] == 'christ_the_reedemer':\n",
    "                self.img_labels['folder_name'][i] = 2\n",
    "            elif self.img_labels['folder_name'][i] == 'eiffel_tower':\n",
    "                self.img_labels['folder_name'][i] = 3\n",
    "            elif self.img_labels['folder_name'][i] == 'great_wall_of_china':\n",
    "                self.img_labels['folder_name'][i] = 4\n",
    "            elif self.img_labels['folder_name'][i] == 'machu_pichu':\n",
    "                self.img_labels['folder_name'][i] = 5\n",
    "            elif self.img_labels['folder_name'][i] == 'pyramids_of_giza':\n",
    "                self.img_labels['folder_name'][i] = 6\n",
    "            elif self.img_labels['folder_name'][i] == 'roman_colosseum':\n",
    "                self.img_labels['folder_name'][i] = 7\n",
    "            elif self.img_labels['folder_name'][i] == 'statue_of_liberty':\n",
    "                self.img_labels['folder_name'][i] = 8\n",
    "            elif self.img_labels['folder_name'][i] == 'stonehenge':\n",
    "                self.img_labels['folder_name'][i] = 9\n",
    "            elif self.img_labels['folder_name'][i] == 'taj_mahal':\n",
    "                self.img_labels['folder_name'][i] = 10\n",
    "            elif self.img_labels['folder_name'][i] == 'venezuela_angel_falls':\n",
    "                self.img_labels['folder_name'][i] = 11\n",
    "        #self.img_labels = self.img_labels['folder_name']\n",
    "        transform = T.Compose([\n",
    "        T.ToPILImage(),\n",
    "        T.Resize(image_size),\n",
    "        T.ToTensor()]\n",
    "        )\n",
    "    def __len__(self):\n",
    "        return len(self.img_labels)\n",
    "\n",
    "    def __getitem__(self, idx):\n",
    "        img_path = os.path.join(self.img_dir, self.img_labels['filename'][idx])\n",
    "        image = cv2.imread(img_path,0)\n",
    "        image=cv2.resize(image, (28, 28),interpolation = cv2.INTER_AREA)\n",
    "        label = np.array(self.img_labels['folder_name']).astype(np.float32)\n",
    "        \n",
    "        if self.transform:\n",
    "            image = self.transform(image)\n",
    "        if self.target_transform:\n",
    "            label = self.target_transform(label)\n",
    "        return image, label"
   ]
  },
  {
   "cell_type": "code",
   "execution_count": 19,
   "metadata": {},
   "outputs": [],
   "source": [
    "dataset = CustomImageDataset(annotations_file = 'archive/wonders_of_world_images.csv', img_dir = 'archive/Wonders of World/Wonders of World', transform= transforms.ToTensor())\n",
    "train, test = torch.utils.data.random_split(dataset, [2693, 1153])\n",
    "train_loader = DataLoader(dataset=train, batch_size=32, shuffle=True)\n",
    "test_loader = DataLoader(dataset=test, batch_size=32, shuffle=True)"
   ]
  },
  {
   "cell_type": "code",
   "execution_count": 189,
   "metadata": {},
   "outputs": [
    {
     "data": {
      "text/plain": [
       "<torch.utils.data.dataloader.DataLoader at 0x10661c666a0>"
      ]
     },
     "execution_count": 189,
     "metadata": {},
     "output_type": "execute_result"
    }
   ],
   "source": [
    "train_loader"
   ]
  },
  {
   "cell_type": "code",
   "execution_count": 20,
   "metadata": {},
   "outputs": [],
   "source": [
    "def train_epoch(network: Module,\n",
    "                optimiser: AdamW,\n",
    "                data_loader: DataLoader\n",
    "               ) -> Tuple[float, float, float]:\n",
    "    \"\"\"\n",
    "    Execute one training epoch.\n",
    "    \n",
    "    :param network: network instance to train\n",
    "    :param optimiser: optimiser instance responsible for updating network parameters\n",
    "    :param data_loader: data loader instance providing training data\n",
    "    :return: tuple comprising training loss, training error as well as accuracy\n",
    "    \"\"\"\n",
    "    network.train()\n",
    "    losses, errors, accuracies = [], [], []\n",
    "    for data, target in data_loader:\n",
    "        data, target = data.to(device=device), target[0].to(device=device)\n",
    "\n",
    "        # Process data by Hopfield-based network.\n",
    "        loss = network.calculate_objective(data, target)[0][0]\n",
    "\n",
    "        # Update network parameters.\n",
    "        optimiser.zero_grad()\n",
    "        loss.backward()\n",
    "        clip_grad_norm_(parameters=network.parameters(), max_norm=1.0, norm_type=2)\n",
    "        optimiser.step()\n",
    "\n",
    "        # Compute performance measures of current model.\n",
    "        error, prediction = network.calculate_classification_error(data, target)\n",
    "        accuracy = (prediction == target).to(dtype=torch.float32).mean()\n",
    "        accuracies.append(accuracy.detach().item())\n",
    "        errors.append(error)\n",
    "        losses.append(loss.detach().item())\n",
    "        #print(data, target)\n",
    "    # Report progress of training procedure.\n",
    "    return sum(losses) / len(losses), sum(errors) / len(errors), sum(accuracies) / len(accuracies)\n",
    "    #return sum(losses) , sum(errors) / len(errors), sum(accuracies) / len(accuracies)\n",
    "\n",
    "\n",
    "def eval_iter(network: Module,\n",
    "              data_loader: DataLoader\n",
    "             ) -> Tuple[float, float, float]:\n",
    "    \"\"\"\n",
    "    Evaluate the current model.\n",
    "    \n",
    "    :param network: network instance to evaluate\n",
    "    :param data_loader: data loader instance providing validation data\n",
    "    :return: tuple comprising validation loss, validation error as well as accuracy\n",
    "    \"\"\"\n",
    "    network.eval()\n",
    "    with torch.no_grad():\n",
    "        losses, errors, accuracies = [], [], []\n",
    "        for data, target in data_loader:\n",
    "            data, target = data.to(device=device), target[0].to(device=device)\n",
    "\n",
    "             #Process data by Hopfield-based network.\n",
    "            #data = torch.flatten(data)\n",
    "            #target = torch.flatten(target)\n",
    "            loss = network.calculate_objective(data, target)[0][0]\n",
    "\n",
    "            # Compute performance measures of current model.\n",
    "            error, prediction = network.calculate_classification_error(data, target)\n",
    "            #print (error, prediction)\n",
    "            accuracy = (prediction == target).to(dtype=torch.float32).mean()\n",
    "            accuracies.append(accuracy.detach().item())\n",
    "            errors.append(error)\n",
    "            losses.append(loss.detach().item())\n",
    "\n",
    "        # Report progress of validation procedure.\n",
    "        return sum(losses) / len(losses), sum(errors) / len(errors), sum(accuracies) / len(accuracies)\n",
    "        #return sum(losses) , sum(errors) / len(errors), sum(accuracies) / len(accuracies)\n",
    "\n",
    "\n",
    "    \n",
    "def operate(network: Module,\n",
    "            optimiser: AdamW,\n",
    "            data_loader_train: DataLoader,\n",
    "            data_loader_eval: DataLoader,\n",
    "            num_epochs: int = 1\n",
    "           ) -> Tuple[pd.DataFrame, pd.DataFrame, pd.DataFrame]:\n",
    "    \"\"\"\n",
    "    Train the specified network by gradient descent using backpropagation.\n",
    "    \n",
    "    :param network: network instance to train\n",
    "    :param optimiser: optimiser instance responsible for updating network parameters\n",
    "    :param data_loader_train: data loader instance providing training data\n",
    "    :param data_loader_eval: data loader instance providing validation data\n",
    "    :param num_epochs: amount of epochs to train\n",
    "    :return: data frame comprising training as well as evaluation performance\n",
    "    \"\"\"\n",
    "    losses, errors, accuracies = {r'train': [], r'eval': []}, {r'train': [], r'eval': []}, {r'train': [], r'eval': []}\n",
    "    for epoch in range(num_epochs):\n",
    "        \n",
    "        # Train network.\n",
    "        performance = train_epoch(network, optimiser, data_loader_train)\n",
    "        losses[r'train'].append(performance[0])\n",
    "        errors[r'train'].append(performance[1])\n",
    "        accuracies[r'train'].append(performance[2])\n",
    "        \n",
    "        # Evaluate current model.\n",
    "        performance = eval_iter(network, data_loader_eval)\n",
    "        losses[r'eval'].append(performance[0])\n",
    "        errors[r'eval'].append(performance[1])\n",
    "        accuracies[r'eval'].append(performance[2])\n",
    "    \n",
    "    # Report progress of training and validation procedures.\n",
    "    return pd.DataFrame(losses), pd.DataFrame(errors), pd.DataFrame(accuracies)"
   ]
  },
  {
   "cell_type": "code",
   "execution_count": 21,
   "metadata": {},
   "outputs": [],
   "source": [
    "def set_seed(seed: int = 42) -> None:\n",
    "    \"\"\"\n",
    "    Set seed for all underlying (pseudo) random number sources.\n",
    "    \n",
    "    :param seed: seed to be used\n",
    "    :return: None\n",
    "    \"\"\"\n",
    "    torch.manual_seed(42)\n",
    "    torch.backends.cudnn.deterministic = True\n",
    "    torch.backends.cudnn.benchmark = False\n",
    "\n",
    "\n",
    "def plot_performance(loss: pd.DataFrame,\n",
    "                     error: pd.DataFrame,\n",
    "                     accuracy: pd.DataFrame\n",
    "                    ) -> None:\n",
    "    \"\"\"\n",
    "    Plot and save loss and accuracy.\n",
    "    \n",
    "    :param loss: loss to be plotted\n",
    "    :param error: error to be plotted\n",
    "    :param accuracy: accuracy to be plotted\n",
    "    :param log_file: target file for storing the resulting plot\n",
    "    :return: None\n",
    "    \"\"\"\n",
    "    fig, ax = plt.subplots(1, 3, figsize=(20, 7))\n",
    "    \n",
    "    loss_plot = sns.lineplot(data=loss, ax=ax[0])\n",
    "    loss_plot.set(xlabel=r'Epoch', ylabel=r'Loss')\n",
    "    \n",
    "    error_plot = sns.lineplot(data=error, ax=ax[1])\n",
    "    error_plot.set(xlabel=r'Epoch', ylabel=r'Error')\n",
    "    \n",
    "    accuracy_plot = sns.lineplot(data=accuracy, ax=ax[2])\n",
    "    accuracy_plot.set(xlabel=r'Epoch', ylabel=r'Accuracy')\n",
    "    \n",
    "    fig.tight_layout()\n",
    "    plt.show(fig)"
   ]
  },
  {
   "cell_type": "code",
   "execution_count": 22,
   "metadata": {},
   "outputs": [],
   "source": [
    "class HfPooling(Module):    \n",
    "    def __init__(self):\n",
    "        \"\"\"\n",
    "        Initialize a new instance of a Hopfield-based pooling network.\n",
    "        \n",
    "        Note: all hyperparameters of the network are fixed for demonstration purposes.\n",
    "        Morevover, most of the notation of the original implementation is kept in order\n",
    "        to be easier comparable (partially ignoring PEP8).\n",
    "        \"\"\"\n",
    "        super(HfPooling, self).__init__()\n",
    "        self.L = 500\n",
    "        self.D = 128\n",
    "        self.K = 1\n",
    "\n",
    "        self.feature_extractor_part1 = Sequential(\n",
    "            Conv2d(1, 20, kernel_size=5),\n",
    "            ReLU(),\n",
    "            MaxPool2d(2, stride=2),\n",
    "            Conv2d(20, 50, kernel_size=5),\n",
    "            ReLU(),\n",
    "            MaxPool2d(2, stride=2)\n",
    "        )\n",
    "        self.feature_extractor_part2 = Sequential(\n",
    "            Linear(50 * 4 * 4, self.L),\n",
    "            ReLU(),\n",
    "        )\n",
    "        self.hopfield_pooling = HopfieldPooling(\n",
    "            input_size=self.L, hidden_size=32, output_size=self.L, num_heads=1\n",
    "        )\n",
    "        self.dp = Dropout(\n",
    "            p=0.1\n",
    "        )\n",
    "        self.classifier = Sequential(\n",
    "            Linear(self.L * self.K, 1),\n",
    "            Sigmoid()\n",
    "        )\n",
    "        \n",
    "    def forward(self, input: Tensor) -> Tuple[Tensor, Tensor, Optional[Tensor]]:\n",
    "        \"\"\"\n",
    "        Compute result of Hopfield-based pooling network on specified data.\n",
    "        \n",
    "        :param input: data to be processed by the Hopfield-based pooling network\n",
    "        :return: result as computed by the Hopfield-based pooling network\n",
    "        \"\"\"\n",
    "        x = input.squeeze(0)\n",
    "        H = self.feature_extractor_part1(x)\n",
    "        H = H.view(-1, 50 * 4 * 4)\n",
    "        H = self.feature_extractor_part2(H)\n",
    "        \n",
    "        H = H.unsqueeze(0)\n",
    "        H = self.hopfield_pooling(H)\n",
    "        H = H.squeeze(0)\n",
    "        H = self.dp(H)\n",
    "\n",
    "        Y_prob = self.classifier(H)\n",
    "        Y_hat = torch.ge(Y_prob, 0.5).float()\n",
    "\n",
    "        return Y_prob, Y_hat, None\n",
    "\n",
    "    def calculate_classification_error(self, input: Tensor, target: Tensor) -> Tuple[Tensor, Tensor]:\n",
    "        \"\"\"\n",
    "        Compute classification error of current model.\n",
    "        \n",
    "        :param input: data to be processed by the Hopfield-based pooling network\n",
    "        :param target: target to be used to compute the classification error of the current model\n",
    "        :return: classification error as well as predicted class\n",
    "        \"\"\"\n",
    "        Y = target.float()\n",
    "        _, Y_hat, _ = self.forward(input)\n",
    "        error = 1.0 - Y_hat.eq(Y).cpu().float().mean().item()\n",
    "\n",
    "        return error, Y_hat\n",
    "\n",
    "    def calculate_objective(self, input: Tensor, target: Tensor) -> Tuple[Tensor, Optional[Tensor]]:\n",
    "        \"\"\"\n",
    "        Compute objective of the current model.\n",
    "        \n",
    "        :param input: data to be processed by the Hopfield-based pooling network\n",
    "        :param target: target to be used to compute the objective of the current model\n",
    "        :return: objective as well as dummy A (see accompanying paper for more information)\n",
    "        \"\"\"\n",
    "        Y = target.float()\n",
    "        #print('target', Y)\n",
    "        Y_prob, _, A = self.forward(input)\n",
    "        Y_prob = torch.clamp(Y_prob, min=1e-5, max=(1.0 - 1e-5))\n",
    "        neg_log_likelihood = -1.0 * (Y * torch.log(Y_prob) + (1.0 - Y) * torch.log(1.0 - Y_prob))\n",
    "\n",
    "        return neg_log_likelihood, A"
   ]
  },
  {
   "cell_type": "code",
   "execution_count": 23,
   "metadata": {},
   "outputs": [],
   "source": [
    "set_seed()\n",
    "network = HfPooling().to(device=device)\n",
    "optimiser = AdamW(params=network.parameters(), lr=5e-4, weight_decay=1e-4)"
   ]
  },
  {
   "cell_type": "code",
   "execution_count": 168,
   "metadata": {},
   "outputs": [],
   "source": [
    "#train_batch = torch.from_numpy(np.array(train))\n",
    "#test_batch = torch.from_numpy(np.array(test))"
   ]
  },
  {
   "cell_type": "code",
   "execution_count": 186,
   "metadata": {},
   "outputs": [
    {
     "name": "stdout",
     "output_type": "stream",
     "text": [
      "torch.Size([200, 200])\n"
     ]
    }
   ],
   "source": [
    "for data, target in train_loader:\n",
    "    print(data[0][0].shape)\n",
    "    break"
   ]
  },
  {
   "cell_type": "code",
   "execution_count": 25,
   "metadata": {},
   "outputs": [],
   "source": [
    "losses, errors, accuracies = operate(\n",
    "    network=network,\n",
    "    optimiser=optimiser,\n",
    "    data_loader_train=train_loader,\n",
    "    data_loader_eval=train_loader,\n",
    "    num_epochs=20)"
   ]
  },
  {
   "cell_type": "code",
   "execution_count": 26,
   "metadata": {},
   "outputs": [
    {
     "name": "stdout",
     "output_type": "stream",
     "text": [
      "       train     eval\n",
      "0   0.032329  0.00001\n",
      "1   0.000010  0.00001\n",
      "2   0.000010  0.00001\n",
      "3   0.000010  0.00001\n",
      "4   0.000010  0.00001\n",
      "5   0.000010  0.00001\n",
      "6   0.000010  0.00001\n",
      "7   0.000010  0.00001\n",
      "8   0.000010  0.00001\n",
      "9   0.000010  0.00001\n",
      "10  0.000010  0.00001\n",
      "11  0.000010  0.00001\n",
      "12  0.000010  0.00001\n",
      "13  0.000010  0.00001\n",
      "14  0.000010  0.00001\n",
      "15  0.000010  0.00001\n",
      "16  0.000010  0.00001\n",
      "17  0.000010  0.00001\n",
      "18  0.000010  0.00001\n",
      "19  0.000010  0.00001        train      eval\n",
      "0   0.898596  0.898596\n",
      "1   0.898596  0.898596\n",
      "2   0.898596  0.898596\n",
      "3   0.898596  0.898596\n",
      "4   0.898596  0.898596\n",
      "5   0.898596  0.898596\n",
      "6   0.898596  0.898596\n",
      "7   0.898596  0.898596\n",
      "8   0.898596  0.898596\n",
      "9   0.898596  0.898596\n",
      "10  0.898596  0.898596\n",
      "11  0.898596  0.898596\n",
      "12  0.898596  0.898596\n",
      "13  0.898596  0.898596\n",
      "14  0.898596  0.898596\n",
      "15  0.898596  0.898596\n",
      "16  0.898596  0.898596\n",
      "17  0.898596  0.898596\n",
      "18  0.898596  0.898596\n",
      "19  0.898596  0.898596        train      eval\n",
      "0   0.101404  0.101404\n",
      "1   0.101404  0.101404\n",
      "2   0.101404  0.101404\n",
      "3   0.101404  0.101404\n",
      "4   0.101404  0.101404\n",
      "5   0.101404  0.101404\n",
      "6   0.101404  0.101404\n",
      "7   0.101404  0.101404\n",
      "8   0.101404  0.101404\n",
      "9   0.101404  0.101404\n",
      "10  0.101404  0.101404\n",
      "11  0.101404  0.101404\n",
      "12  0.101404  0.101404\n",
      "13  0.101404  0.101404\n",
      "14  0.101404  0.101404\n",
      "15  0.101404  0.101404\n",
      "16  0.101404  0.101404\n",
      "17  0.101404  0.101404\n",
      "18  0.101404  0.101404\n",
      "19  0.101404  0.101404\n"
     ]
    }
   ],
   "source": [
    "print(losses, errors, accuracies)"
   ]
  },
  {
   "cell_type": "code",
   "execution_count": 27,
   "metadata": {},
   "outputs": [
    {
     "data": {
      "image/png": "[encoded data removed]",
      "text/plain": [
       "<Figure size 1440x504 with 3 Axes>"
      ]
     },
     "metadata": {},
     "output_type": "display_data"
    }
   ],
   "source": [
    "plot_performance(loss=losses, error=errors, accuracy=accuracies)"
   ]
  },
  {
   "cell_type": "code",
   "execution_count": null,
   "metadata": {},
   "outputs": [],
   "source": []
  },
  {
   "cell_type": "code",
   "execution_count": null,
   "metadata": {},
   "outputs": [],
   "source": []
  }
 ],
 "metadata": {
  "kernelspec": {
   "display_name": "base",
   "language": "python",
   "name": "python3"
  },
  "language_info": {
   "codemirror_mode": {
    "name": "ipython",
    "version": 3
   },
   "file_extension": ".py",
   "mimetype": "text/x-python",
   "name": "python",
   "nbconvert_exporter": "python",
   "pygments_lexer": "ipython3",
   "version": "3.9.7"
  },
  "orig_nbformat": 4,
  "vscode": {
   "interpreter": {
    "hash": "15c18779755d87cf3d8f4339589cec1eaf2f00eb4bedfcd095daf8ee5cb7dca1"
   }
  }
 },
 "nbformat": 4,
 "nbformat_minor": 2
}
